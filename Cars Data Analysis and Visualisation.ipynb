{
  "nbformat": 4,
  "nbformat_minor": 0,
  "metadata": {
    "colab": {
      "name": "Untitled1.ipynb",
      "provenance": []
    },
    "kernelspec": {
      "name": "python3",
      "display_name": "Python 3"
    },
    "language_info": {
      "name": "python"
    }
  },
  "cells": [
    {
      "cell_type": "code",
      "metadata": {
        "id": "npV9izxCFcTr"
      },
      "source": [
        "import pandas as pd"
      ],
      "execution_count": 1,
      "outputs": []
    },
    {
      "cell_type": "code",
      "metadata": {
        "colab": {
          "base_uri": "https://localhost:8080/",
          "height": 417
        },
        "id": "uAOA6iolFm1S",
        "outputId": "f7d2bd5b-1f57-4345-e5ed-62a067812ba6"
      },
      "source": [
        "import numpy as np\n",
        "data = pd.read_csv(\"/cars.csv\")\n",
        "data"
      ],
      "execution_count": 2,
      "outputs": [
        {
          "output_type": "execute_result",
          "data": {
            "text/html": [
              "<div>\n",
              "<style scoped>\n",
              "    .dataframe tbody tr th:only-of-type {\n",
              "        vertical-align: middle;\n",
              "    }\n",
              "\n",
              "    .dataframe tbody tr th {\n",
              "        vertical-align: top;\n",
              "    }\n",
              "\n",
              "    .dataframe thead th {\n",
              "        text-align: right;\n",
              "    }\n",
              "</style>\n",
              "<table border=\"1\" class=\"dataframe\">\n",
              "  <thead>\n",
              "    <tr style=\"text-align: right;\">\n",
              "      <th></th>\n",
              "      <th>mpg</th>\n",
              "      <th>cylinders</th>\n",
              "      <th>cubicinches</th>\n",
              "      <th>hp</th>\n",
              "      <th>weightlbs</th>\n",
              "      <th>time-to-60</th>\n",
              "      <th>year</th>\n",
              "      <th>brand</th>\n",
              "    </tr>\n",
              "  </thead>\n",
              "  <tbody>\n",
              "    <tr>\n",
              "      <th>0</th>\n",
              "      <td>14.0</td>\n",
              "      <td>8</td>\n",
              "      <td>350.0</td>\n",
              "      <td>165</td>\n",
              "      <td>4209.0</td>\n",
              "      <td>12</td>\n",
              "      <td>1972</td>\n",
              "      <td>US.</td>\n",
              "    </tr>\n",
              "    <tr>\n",
              "      <th>1</th>\n",
              "      <td>31.9</td>\n",
              "      <td>4</td>\n",
              "      <td>89.0</td>\n",
              "      <td>71</td>\n",
              "      <td>1925.0</td>\n",
              "      <td>14</td>\n",
              "      <td>1980</td>\n",
              "      <td>Europe.</td>\n",
              "    </tr>\n",
              "    <tr>\n",
              "      <th>2</th>\n",
              "      <td>17.0</td>\n",
              "      <td>8</td>\n",
              "      <td>302.0</td>\n",
              "      <td>140</td>\n",
              "      <td>3449.0</td>\n",
              "      <td>11</td>\n",
              "      <td>1971</td>\n",
              "      <td>US.</td>\n",
              "    </tr>\n",
              "    <tr>\n",
              "      <th>3</th>\n",
              "      <td>15.0</td>\n",
              "      <td>8</td>\n",
              "      <td>400.0</td>\n",
              "      <td>150</td>\n",
              "      <td>3761.0</td>\n",
              "      <td>10</td>\n",
              "      <td>1971</td>\n",
              "      <td>US.</td>\n",
              "    </tr>\n",
              "    <tr>\n",
              "      <th>4</th>\n",
              "      <td>30.5</td>\n",
              "      <td>4</td>\n",
              "      <td>98.0</td>\n",
              "      <td>63</td>\n",
              "      <td>2051.0</td>\n",
              "      <td>17</td>\n",
              "      <td>1978</td>\n",
              "      <td>US.</td>\n",
              "    </tr>\n",
              "    <tr>\n",
              "      <th>...</th>\n",
              "      <td>...</td>\n",
              "      <td>...</td>\n",
              "      <td>...</td>\n",
              "      <td>...</td>\n",
              "      <td>...</td>\n",
              "      <td>...</td>\n",
              "      <td>...</td>\n",
              "      <td>...</td>\n",
              "    </tr>\n",
              "    <tr>\n",
              "      <th>256</th>\n",
              "      <td>17.0</td>\n",
              "      <td>8</td>\n",
              "      <td>305.0</td>\n",
              "      <td>130</td>\n",
              "      <td>3840.0</td>\n",
              "      <td>15</td>\n",
              "      <td>1980</td>\n",
              "      <td>US.</td>\n",
              "    </tr>\n",
              "    <tr>\n",
              "      <th>257</th>\n",
              "      <td>36.1</td>\n",
              "      <td>4</td>\n",
              "      <td>91.0</td>\n",
              "      <td>60</td>\n",
              "      <td>1800.0</td>\n",
              "      <td>16</td>\n",
              "      <td>1979</td>\n",
              "      <td>Japan.</td>\n",
              "    </tr>\n",
              "    <tr>\n",
              "      <th>258</th>\n",
              "      <td>22.0</td>\n",
              "      <td>6</td>\n",
              "      <td>232.0</td>\n",
              "      <td>112</td>\n",
              "      <td>2835.0</td>\n",
              "      <td>15</td>\n",
              "      <td>1983</td>\n",
              "      <td>US.</td>\n",
              "    </tr>\n",
              "    <tr>\n",
              "      <th>259</th>\n",
              "      <td>18.0</td>\n",
              "      <td>6</td>\n",
              "      <td>232.0</td>\n",
              "      <td>100</td>\n",
              "      <td>3288.0</td>\n",
              "      <td>16</td>\n",
              "      <td>1972</td>\n",
              "      <td>US.</td>\n",
              "    </tr>\n",
              "    <tr>\n",
              "      <th>260</th>\n",
              "      <td>22.0</td>\n",
              "      <td>6</td>\n",
              "      <td>250.0</td>\n",
              "      <td>105</td>\n",
              "      <td>3353.0</td>\n",
              "      <td>15</td>\n",
              "      <td>1977</td>\n",
              "      <td>US.</td>\n",
              "    </tr>\n",
              "  </tbody>\n",
              "</table>\n",
              "<p>261 rows × 8 columns</p>\n",
              "</div>"
            ],
            "text/plain": [
              "      mpg  cylinders  cubicinches   hp  weightlbs  time-to-60  year    brand\n",
              "0    14.0          8        350.0  165     4209.0          12  1972      US.\n",
              "1    31.9          4         89.0   71     1925.0          14  1980  Europe.\n",
              "2    17.0          8        302.0  140     3449.0          11  1971      US.\n",
              "3    15.0          8        400.0  150     3761.0          10  1971      US.\n",
              "4    30.5          4         98.0   63     2051.0          17  1978      US.\n",
              "..    ...        ...          ...  ...        ...         ...   ...      ...\n",
              "256  17.0          8        305.0  130     3840.0          15  1980      US.\n",
              "257  36.1          4         91.0   60     1800.0          16  1979   Japan.\n",
              "258  22.0          6        232.0  112     2835.0          15  1983      US.\n",
              "259  18.0          6        232.0  100     3288.0          16  1972      US.\n",
              "260  22.0          6        250.0  105     3353.0          15  1977      US.\n",
              "\n",
              "[261 rows x 8 columns]"
            ]
          },
          "metadata": {
            "tags": []
          },
          "execution_count": 2
        }
      ]
    },
    {
      "cell_type": "markdown",
      "metadata": {
        "id": "5rK_QI0xI9tJ"
      },
      "source": [
        "1.Can you find that there has been an improvement in mpg over the years ?\n"
      ]
    },
    {
      "cell_type": "code",
      "metadata": {
        "colab": {
          "base_uri": "https://localhost:8080/",
          "height": 296
        },
        "id": "2G5xfk3nGCZl",
        "outputId": "cb5fa14c-208d-44e7-b155-163ed77b3276"
      },
      "source": [
        "import matplotlib.pyplot as plt\n",
        "x = data['year']\n",
        "y = data['mpg']\n",
        "plt.bar(x,y,label=\"MPG\")\n",
        "plt.xlabel(\"Years\")\n",
        "plt.ylabel(\"Miles per Gallon\")\n",
        "plt.legend()"
      ],
      "execution_count": 4,
      "outputs": [
        {
          "output_type": "execute_result",
          "data": {
            "text/plain": [
              "<matplotlib.legend.Legend at 0x7ff3c497d390>"
            ]
          },
          "metadata": {
            "tags": []
          },
          "execution_count": 4
        },
        {
          "output_type": "display_data",
          "data": {
            "image/png": "[encoded data removed]",
            "text/plain": [
              "<Figure size 432x288 with 1 Axes>"
            ]
          },
          "metadata": {
            "tags": [],
            "needs_background": "light"
          }
        }
      ]
    },
    {
      "cell_type": "markdown",
      "metadata": {
        "id": "VtZP43seefH9"
      },
      "source": [
        "Ans : The growth in miles in per gallon(mpg) over the years has not been steady, but for the total period 1971-1983 the mpg has almost doubled in the year 1983 when compared to 1971"
      ]
    },
    {
      "cell_type": "markdown",
      "metadata": {
        "id": "bEEshYvMJTox"
      },
      "source": [
        "2.Does cubic inches of a vehicle affect the vehicle's time to reach 60 Miles per\n",
        "hour? "
      ]
    },
    {
      "cell_type": "code",
      "metadata": {
        "colab": {
          "base_uri": "https://localhost:8080/",
          "height": 296
        },
        "id": "O7kuVkZzI3sM",
        "outputId": "3a9a4c7f-a772-4676-86bb-7eb840e57605"
      },
      "source": [
        "x = data['time-to-60']\n",
        "y = data['cubicinches']\n",
        "plt.barh(x,y,label=\"Cubic Inches\",color='green')\n",
        "plt.xlabel(\"Time-to-60\")\n",
        "plt.ylabel(\"Cubic Inches\")\n",
        "plt.legend()"
      ],
      "execution_count": 16,
      "outputs": [
        {
          "output_type": "execute_result",
          "data": {
            "text/plain": [
              "<matplotlib.legend.Legend at 0x7ff3b93c2b10>"
            ]
          },
          "metadata": {
            "tags": []
          },
          "execution_count": 16
        },
        {
          "output_type": "display_data",
          "data": {
            "image/png": "[encoded data removed]",
            "text/plain": [
              "<Figure size 432x288 with 1 Axes>"
            ]
          },
          "metadata": {
            "tags": [],
            "needs_background": "light"
          }
        }
      ]
    },
    {
      "cell_type": "markdown",
      "metadata": {
        "id": "27be0bSCfUu7"
      },
      "source": [
        "Ans : From the above graph, it becomes clear that higher cubicinches contribute in obtaining better time to reach 60 miles per hour"
      ]
    },
    {
      "cell_type": "markdown",
      "metadata": {
        "id": "UUcOfTEuNykI"
      },
      "source": [
        "3.Does a specific country prefer vehicles with more horsepower ?"
      ]
    },
    {
      "cell_type": "code",
      "metadata": {
        "colab": {
          "base_uri": "https://localhost:8080/"
        },
        "id": "6jSGdiMQN3ui",
        "outputId": "6f03703b-749b-4cc8-f206-d97860309332"
      },
      "source": [
        "data['hp'].max()"
      ],
      "execution_count": 12,
      "outputs": [
        {
          "output_type": "execute_result",
          "data": {
            "text/plain": [
              "230"
            ]
          },
          "metadata": {
            "tags": []
          },
          "execution_count": 12
        }
      ]
    },
    {
      "cell_type": "code",
      "metadata": {
        "colab": {
          "base_uri": "https://localhost:8080/"
        },
        "id": "FFzy0IZhN__6",
        "outputId": "ec9431c7-421d-4efb-9a05-cb099f12026c"
      },
      "source": [
        "data[data['hp'] == 230]['brand']"
      ],
      "execution_count": 15,
      "outputs": [
        {
          "output_type": "execute_result",
          "data": {
            "text/plain": [
              "55    US.\n",
              "Name: brand, dtype: object"
            ]
          },
          "metadata": {
            "tags": []
          },
          "execution_count": 15
        }
      ]
    },
    {
      "cell_type": "markdown",
      "metadata": {
        "id": "SHxO-B0yg1RV"
      },
      "source": [
        "Ans : From above, we can conclude that the US prefers vehicles with more horsepower as compared to the other contenders, Europe and Japan"
      ]
    },
    {
      "cell_type": "markdown",
      "metadata": {
        "id": "BxtKKWqBPPOV"
      },
      "source": [
        "4.How does horsepower affect the average of the vehicle ?"
      ]
    },
    {
      "cell_type": "code",
      "metadata": {
        "colab": {
          "base_uri": "https://localhost:8080/",
          "height": 296
        },
        "id": "Tpz3wSiQPTZ5",
        "outputId": "ad499fa7-c2cc-44ec-c180-50688cc60a6a"
      },
      "source": [
        "x = data['hp']\n",
        "y = data['mpg']\n",
        "plt.scatter(x,y,label=\"Average\",color='orange')\n",
        "plt.xlabel(\"Horsepower\")\n",
        "plt.ylabel(\"Average(MPG)\")\n",
        "plt.legend()"
      ],
      "execution_count": 19,
      "outputs": [
        {
          "output_type": "execute_result",
          "data": {
            "text/plain": [
              "<matplotlib.legend.Legend at 0x7ff3b7dffb90>"
            ]
          },
          "metadata": {
            "tags": []
          },
          "execution_count": 19
        },
        {
          "output_type": "display_data",
          "data": {
            "image/png": "[encoded data removed]",
            "text/plain": [
              "<Figure size 432x288 with 1 Axes>"
            ]
          },
          "metadata": {
            "tags": [],
            "needs_background": "light"
          }
        }
      ]
    },
    {
      "cell_type": "markdown",
      "metadata": {
        "id": "PeivPUkkhKg6"
      },
      "source": [
        "Ans : From the above scatter graph, it becomes clear that the lower the hoursepower of a vehicle the higher is the average(mpg) "
      ]
    },
    {
      "cell_type": "markdown",
      "metadata": {
        "id": "YGefw2F9P53a"
      },
      "source": [
        "5.How does the cubic inches affect the average of the vehicle ?"
      ]
    },
    {
      "cell_type": "code",
      "metadata": {
        "colab": {
          "base_uri": "https://localhost:8080/",
          "height": 279
        },
        "id": "Sd4t93ghP_a8",
        "outputId": "5109cf25-7401-4e00-dcf0-8b9cdbcd30ec"
      },
      "source": [
        "x = data['cubicinches']\n",
        "y = data['mpg']\n",
        "plt.bar(x,y,label=\"Average\",color='violet')\n",
        "plt.xlabel(\"Cubic Inches\")\n",
        "plt.ylabel(\"Average(MPG)\")\n",
        "plt.legend()\n",
        "plt.grid()"
      ],
      "execution_count": 49,
      "outputs": [
        {
          "output_type": "display_data",
          "data": {
            "image/png": "[encoded data removed]",
            "text/plain": [
              "<Figure size 432x288 with 1 Axes>"
            ]
          },
          "metadata": {
            "tags": [],
            "needs_background": "light"
          }
        }
      ]
    },
    {
      "cell_type": "markdown",
      "metadata": {
        "id": "1safUrNhhmHC"
      },
      "source": [
        "Ans : From the above bar graph, we can observe that the average(mpg) seems high and clustered in the lower cubic inches, and a lot of variation and spread graph as the cubic inches increase."
      ]
    },
    {
      "cell_type": "markdown",
      "metadata": {
        "id": "aTk9S-doSe_i"
      },
      "source": [
        "6.What is the effect of the number of cylinders on the mpg ?"
      ]
    },
    {
      "cell_type": "code",
      "metadata": {
        "colab": {
          "base_uri": "https://localhost:8080/",
          "height": 296
        },
        "id": "eAUr4futShy9",
        "outputId": "595a717f-8ac4-49d8-f1f4-adff0701d453"
      },
      "source": [
        "x = data['cylinders']\n",
        "y = data['mpg']\n",
        "plt.bar(x,y,label=\"Average\",color='purple')\n",
        "plt.xlabel(\"No. of cylinders\")\n",
        "plt.ylabel(\"Average(MPG)\")\n",
        "plt.legend()"
      ],
      "execution_count": 51,
      "outputs": [
        {
          "output_type": "execute_result",
          "data": {
            "text/plain": [
              "<matplotlib.legend.Legend at 0x7ff3b40e9f50>"
            ]
          },
          "metadata": {
            "tags": []
          },
          "execution_count": 51
        },
        {
          "output_type": "display_data",
          "data": {
            "image/png": "[encoded data removed]",
            "text/plain": [
              "<Figure size 432x288 with 1 Axes>"
            ]
          },
          "metadata": {
            "tags": [],
            "needs_background": "light"
          }
        }
      ]
    },
    {
      "cell_type": "markdown",
      "metadata": {
        "id": "0kYyV4urjzMu"
      },
      "source": [
        "Ans : From the above graph, we can observe that the optiomal number of cylinders to obtain maximium average is 4, the data does not provide a steady increase or decrease."
      ]
    },
    {
      "cell_type": "markdown",
      "metadata": {
        "id": "M-R8V74wTGP5"
      },
      "source": [
        "7.What relation between cubic inches , number of cylinders and horsepower can\n",
        "you observe from the data ?"
      ]
    },
    {
      "cell_type": "code",
      "metadata": {
        "colab": {
          "base_uri": "https://localhost:8080/",
          "height": 313
        },
        "id": "bpazA2LdTLs_",
        "outputId": "d6505d82-89bb-4bdf-e558-c7af900d705a"
      },
      "source": [
        "x = data['cubicinches']\n",
        "y = data['hp']\n",
        "plt.scatter(x,y,label=\"\",color='green')\n",
        "plt.xlabel(\"Cubic Inches\")\n",
        "plt.ylabel(\"Horsepower\")\n",
        "plt.legend()"
      ],
      "execution_count": 39,
      "outputs": [
        {
          "output_type": "stream",
          "text": [
            "No handles with labels found to put in legend.\n"
          ],
          "name": "stderr"
        },
        {
          "output_type": "execute_result",
          "data": {
            "text/plain": [
              "<matplotlib.legend.Legend at 0x7ff3b563cf50>"
            ]
          },
          "metadata": {
            "tags": []
          },
          "execution_count": 39
        },
        {
          "output_type": "display_data",
          "data": {
            "image/png": "[encoded data removed]",
            "text/plain": [
              "<Figure size 432x288 with 1 Axes>"
            ]
          },
          "metadata": {
            "tags": [],
            "needs_background": "light"
          }
        }
      ]
    },
    {
      "cell_type": "code",
      "metadata": {
        "colab": {
          "base_uri": "https://localhost:8080/",
          "height": 296
        },
        "id": "z16cU_pHTy0w",
        "outputId": "d8ea700e-2999-4d70-d24f-29aec648ee57"
      },
      "source": [
        "x = data['cylinders']\n",
        "y = data['cubicinches']\n",
        "plt.bar(x,y,label=\"\",color='blue')\n",
        "plt.xlabel(\"No. of Cylinders\")\n",
        "plt.ylabel(\"Cubic Inches\")"
      ],
      "execution_count": 44,
      "outputs": [
        {
          "output_type": "execute_result",
          "data": {
            "text/plain": [
              "Text(0, 0.5, 'Cubic Inches')"
            ]
          },
          "metadata": {
            "tags": []
          },
          "execution_count": 44
        },
        {
          "output_type": "display_data",
          "data": {
            "image/png": "[encoded data removed]",
            "text/plain": [
              "<Figure size 432x288 with 1 Axes>"
            ]
          },
          "metadata": {
            "tags": [],
            "needs_background": "light"
          }
        }
      ]
    },
    {
      "cell_type": "markdown",
      "metadata": {
        "id": "VYY7bFoujExw"
      },
      "source": [
        "Ans : From the above scatter and bar graphs, we can conclude that, the number of cylinders, horsepower and cubic inches are directly related and increase proportionally"
      ]
    },
    {
      "cell_type": "markdown",
      "metadata": {
        "id": "vPZoVSH0Vlh5"
      },
      "source": [
        "8.How much proportion of the total records is occupied by vehicles with 8\n",
        "cylinders ?"
      ]
    },
    {
      "cell_type": "code",
      "metadata": {
        "colab": {
          "base_uri": "https://localhost:8080/",
          "height": 248
        },
        "id": "L8B7egzQVnh8",
        "outputId": "fc9ecb7d-ee73-4f84-ab54-1c9ccc5cc25c"
      },
      "source": [
        "no_of_cylinders = [4,8,6,5,3]\n",
        "a = data['cylinders'].value_counts()\n",
        "plt.pie(a, explode=[0,0.12,0,0,0], labels=no_of_cylinders, shadow=True, startangle=0, autopct='%0.2f%%',)\n",
        "plt.show()"
      ],
      "execution_count": 47,
      "outputs": [
        {
          "output_type": "display_data",
          "data": {
            "image/png": "[encoded data removed]",
            "text/plain": [
              "<Figure size 432x288 with 1 Axes>"
            ]
          },
          "metadata": {
            "tags": []
          }
        }
      ]
    },
    {
      "cell_type": "markdown",
      "metadata": {
        "id": "5ezvSH8hisoH"
      },
      "source": [
        "Ans : Of the total records, the vehilces with 8 cylinders occupy 29.12% of the vehicles surveyed."
      ]
    }
  ]
}